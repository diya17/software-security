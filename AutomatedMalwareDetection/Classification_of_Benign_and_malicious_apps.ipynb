{
  "nbformat": 4,
  "nbformat_minor": 0,
  "metadata": {
    "colab": {
      "provenance": []
    },
    "kernelspec": {
      "name": "python3",
      "display_name": "Python 3"
    },
    "language_info": {
      "name": "python"
    }
  },
  "cells": [
    {
      "cell_type": "code",
      "execution_count": 4,
      "metadata": {
        "colab": {
          "base_uri": "https://localhost:8080/"
        },
        "id": "cBWWTRqoGEUr",
        "outputId": "30a258c7-eccc-4a56-c49b-01fee933a310"
      },
      "outputs": [
        {
          "output_type": "stream",
          "name": "stdout",
          "text": [
            "Mounted at /content/drive\n"
          ]
        }
      ],
      "source": [
        "from google.colab import drive\n",
        "import pathlib\n",
        "drive.mount('/content/drive',force_remount=True)"
      ]
    },
    {
      "cell_type": "code",
      "source": [
        "import os\n",
        "import shutil\n",
        "import pandas as pd\n",
        "from sklearn.preprocessing import MultiLabelBinarizer\n",
        "import xml.etree.ElementTree as ET\n",
        "import sklearn.svm\n",
        "import sklearn.cluster\n",
        "import sklearn.linear_model\n",
        "import sklearn.model_selection\n",
        "import sklearn.tree\n",
        "import lightgbm\n",
        "import sklearn.metrics\n",
        "import xgboost\n",
        "from sklearn.decomposition import PCA\n",
        "import matplotlib.pyplot\n",
        "import numpy as np\n",
        "import sklearn.ensemble"
      ],
      "metadata": {
        "id": "kI1aa5QzHCCh"
      },
      "execution_count": 84,
      "outputs": []
    },
    {
      "cell_type": "code",
      "source": [
        "seed = 17"
      ],
      "metadata": {
        "id": "3m_gJAoyQBtI"
      },
      "execution_count": 52,
      "outputs": []
    },
    {
      "cell_type": "code",
      "source": [
        "def calculatefscore(expected,actual):\n",
        "  TP=0\n",
        "  FP=0\n",
        "  FN=0\n",
        "  TN=0\n",
        "  for i in range(len(expected)):\n",
        "    if actual[i]>=1 and expected[i]==1:\n",
        "      TP=TP+1\n",
        "    elif actual[i]==1 and expected[i]==0:\n",
        "      FP=FP+1\n",
        "    elif actual[i]==0 and expected[i]==1:\n",
        "      FN=FN+1\n",
        "    \n",
        "\n",
        "  fscore=2*TP/(2*TP+FP+FN)\n",
        "  print(\"TP: \"+ str(TP))\n",
        "  print(\"FP: \"+ str(FP))\n",
        "  print(\"FN: \"+ str(FN))"
      ],
      "metadata": {
        "id": "_TQpqlQpHDZH"
      },
      "execution_count": 42,
      "outputs": []
    },
    {
      "cell_type": "code",
      "source": [
        "malPermissionsMap = pd.DataFrame(columns=['AppName', 'Permissions','isBenign'])\n",
        "malPermissionsMapFeat1 = pd.DataFrame(columns=['AppName','Permissions','Receiver','isBenign'])\n",
        "\n",
        "mal_dir = \"/content/drive/MyDrive/extractedmanifestmalign\"\n",
        "for fileName in os.listdir(mal_dir):\n",
        "  if fileName == '.DS_Store':\n",
        "    continue\n",
        "  androidManifest = ET.parse(mal_dir+'/'+fileName)\n",
        "  appName = fileName[:len(fileName)-20]\n",
        "  permissionsList = []\n",
        "  receiverList= []\n",
        "  for permission in androidManifest.findall('uses-permission'):\n",
        "    permissionsList.append(permission.attrib['{http://schemas.android.com/apk/res/android}name'])\n",
        "  for receiver in androidManifest.findall('application/receiver'):\n",
        "    receiverList.append(receiver.attrib['{http://schemas.android.com/apk/res/android}name'])\n",
        "  malPermissionsMap.loc[len(malPermissionsMap.index)] = [appName, permissionsList,0]\n",
        "  malPermissionsMapFeat1.loc[len(malPermissionsMapFeat1.index)] = [appName,permissionsList,receiverList,0]\n",
        "\n",
        "benPermissionsMap = pd.DataFrame(columns=['AppName', 'Permissions','isBenign'])\n",
        "benPermissionsMapFeat1 = pd.DataFrame(columns=['AppName','Permissions','Receiver','isBenign'])\n",
        "\n",
        "ben_dir = \"/content/drive/My Drive/extractedmanifestbenign\"\n",
        "for fileName in os.listdir(ben_dir):\n",
        "  if fileName == '.DS_Store':\n",
        "    continue\n",
        "  androidManifest = ET.parse(ben_dir+'/'+fileName)\n",
        "  appName = fileName[:len(fileName)-20]\n",
        "  permissionsList = []\n",
        "  receiverList= []\n",
        "  for permission in androidManifest.findall('uses-permission'):\n",
        "    permissionsList.append(permission.attrib['{http://schemas.android.com/apk/res/android}name'])\n",
        "  for receiver in androidManifest.findall('application/receiver'):\n",
        "    receiverList.append(receiver.attrib['{http://schemas.android.com/apk/res/android}name'])\n",
        "  benPermissionsMap.loc[len(benPermissionsMap.index)] = [appName, permissionsList,1]\n",
        "  benPermissionsMapFeat1.loc[len(benPermissionsMapFeat1.index)] = [appName,permissionsList,receiverList,1]\n",
        "permissionsMap=pd.concat([benPermissionsMap,malPermissionsMap],ignore_index=True)\n",
        "permissionsMapFeat1=pd.concat([benPermissionsMapFeat1,malPermissionsMapFeat1],ignore_index=True)\n",
        "\n",
        "multiLableBinarizer = MultiLabelBinarizer(sparse_output=True)\n",
        "permissionsMap = permissionsMap.join(pd.DataFrame.sparse.from_spmatrix(multiLableBinarizer.fit_transform(permissionsMap.pop('Permissions')),index=permissionsMap.index,columns=multiLableBinarizer.classes_))\n",
        "permissionsMap = permissionsMap.drop('AppName', axis=1)\n",
        "isBen=permissionsMap.isBenign\n",
        "permissionsMap = permissionsMap.drop('isBenign', axis=1)\n",
        "permissionsMap=permissionsMap.to_numpy()\n",
        "isBen=isBen.to_numpy()\n",
        "\n",
        "multiLableBinarizer = MultiLabelBinarizer(sparse_output=True)\n",
        "permissionsMapFeat1 = permissionsMapFeat1.join(pd.DataFrame.sparse.from_spmatrix(multiLableBinarizer.fit_transform(permissionsMapFeat1.pop('Permissions')),index=permissionsMapFeat1.index,columns=multiLableBinarizer.classes_))\n",
        "permissionsMapFeat1 = permissionsMapFeat1.join(pd.DataFrame.sparse.from_spmatrix(multiLableBinarizer.fit_transform(permissionsMapFeat1.pop('Receiver')),index=permissionsMapFeat1.index,columns=multiLableBinarizer.classes_))\n",
        "print(permissionsMapFeat1.head())\n",
        "permissionsMapFeat1 = permissionsMapFeat1.drop('AppName', axis=1)\n",
        "isBenFeat1=permissionsMapFeat1.isBenign\n",
        "permissionsMapFeat1 = permissionsMapFeat1.drop('isBenign', axis=1)\n",
        "permissionsMapFeat1=permissionsMapFeat1.to_numpy()\n",
        "isBenFeat1=isBenFeat1.to_numpy()"
      ],
      "metadata": {
        "colab": {
          "base_uri": "https://localhost:8080/"
        },
        "id": "4YVaq1McHNP2",
        "outputId": "44e9c007-1f13-4926-842f-793c4da12fc8"
      },
      "execution_count": 15,
      "outputs": [
        {
          "output_type": "stream",
          "name": "stdout",
          "text": [
            "                          AppName isBenign  \\\n",
            "0             com.nytimes.android        1   \n",
            "1           com.mw.rouletteroyale        1   \n",
            "2   com.musixmatch.android.lyrify        1   \n",
            "3            com.oldwang1.darts-2        1   \n",
            "4  com.nb.fingerprint.lock.free-7        1   \n",
            "\n",
            "   android.hardware.sensor.accelerometer  android.permission.ACCESS_COARSE  \\\n",
            "0                                      0                                 0   \n",
            "1                                      0                                 0   \n",
            "2                                      0                                 0   \n",
            "3                                      0                                 0   \n",
            "4                                      0                                 0   \n",
            "\n",
            "   android.permission.ACCESS_COARSE_LOCATION  \\\n",
            "0                                          1   \n",
            "1                                          1   \n",
            "2                                          0   \n",
            "3                                          0   \n",
            "4                                          0   \n",
            "\n",
            "   android.permission.ACCESS_COARSE_UPDATES  \\\n",
            "0                                         0   \n",
            "1                                         0   \n",
            "2                                         0   \n",
            "3                                         0   \n",
            "4                                         0   \n",
            "\n",
            "   android.permission.ACCESS_COURSE_LOCATION  \\\n",
            "0                                          0   \n",
            "1                                          0   \n",
            "2                                          0   \n",
            "3                                          0   \n",
            "4                                          0   \n",
            "\n",
            "   android.permission.ACCESS_DOWNLOAD_MANAGER  \\\n",
            "0                                           0   \n",
            "1                                           0   \n",
            "2                                           0   \n",
            "3                                           0   \n",
            "4                                           0   \n",
            "\n",
            "   android.permission.ACCESS_FINE_LOCATIION  \\\n",
            "0                                         0   \n",
            "1                                         0   \n",
            "2                                         0   \n",
            "3                                         0   \n",
            "4                                         0   \n",
            "\n",
            "   android.permission.ACCESS_FINE_LOCATION  ...  \\\n",
            "0                                        0  ...   \n",
            "1                                        0  ...   \n",
            "2                                        0  ...   \n",
            "3                                        0  ...   \n",
            "4                                        0  ...   \n",
            "\n",
            "   waterfall.beautiful.livewallpaper.BootReceiver  \\\n",
            "0                                               0   \n",
            "1                                               0   \n",
            "2                                               0   \n",
            "3                                               0   \n",
            "4                                               0   \n",
            "\n",
            "   wp.wattpad.dev.DeveloperSettingsReceiver  \\\n",
            "0                                         0   \n",
            "1                                         0   \n",
            "2                                         0   \n",
            "3                                         0   \n",
            "4                                         0   \n",
            "\n",
            "   wp.wattpad.dev.DomainModeNotificationClickReceiver  \\\n",
            "0                                                  0    \n",
            "1                                                  0    \n",
            "2                                                  0    \n",
            "3                                                  0    \n",
            "4                                                  0    \n",
            "\n",
            "   wp.wattpad.util.GCMReceiver  \\\n",
            "0                            0   \n",
            "1                            0   \n",
            "2                            0   \n",
            "3                            0   \n",
            "4                            0   \n",
            "\n",
            "   wp.wattpad.util.notifications.local.LocalNotificationAlarmReceiver  \\\n",
            "0                                                  0                    \n",
            "1                                                  0                    \n",
            "2                                                  0                    \n",
            "3                                                  0                    \n",
            "4                                                  0                    \n",
            "\n",
            "   wp.wattpad.util.notifications.local.LocalNotificationClickReceiver  \\\n",
            "0                                                  0                    \n",
            "1                                                  0                    \n",
            "2                                                  0                    \n",
            "3                                                  0                    \n",
            "4                                                  0                    \n",
            "\n",
            "   wp.wattpad.util.notifications.push.PushNotificationClickReceiver  \\\n",
            "0                                                  0                  \n",
            "1                                                  0                  \n",
            "2                                                  0                  \n",
            "3                                                  0                  \n",
            "4                                                  0                  \n",
            "\n",
            "   yefqoftdkcpyypd.iosxgtcvrw  yefqoftdkcpyypd.swbwlhmjso  \\\n",
            "0                           0                           0   \n",
            "1                           0                           0   \n",
            "2                           0                           0   \n",
            "3                           0                           0   \n",
            "4                           0                           0   \n",
            "\n",
            "   zhu.AppUpdate.ReplaceBroadcastReceiver  \n",
            "0                                       0  \n",
            "1                                       0  \n",
            "2                                       0  \n",
            "3                                       0  \n",
            "4                                       0  \n",
            "\n",
            "[5 rows x 1704 columns]\n"
          ]
        }
      ]
    },
    {
      "cell_type": "code",
      "source": [
        "trainSet,testSet,trainRes,testRes = sklearn.model_selection.train_test_split(permissionsMapFeat1,isBen, test_size=0.2, random_state=17)\n",
        "n_components = 10\n",
        "\n",
        "pca = PCA(n_components=n_components).fit(trainSet)\n",
        "matplotlib.pyplot.plot(np.cumsum(pca.explained_variance_ratio_))\n",
        "np.cumsum(pca.explained_variance_ratio_)\n",
        "matplotlib.pyplot.xlabel('num principal components')\n",
        "matplotlib.pyplot.ylabel('Fraction of total variance explained')\n"
      ],
      "metadata": {
        "colab": {
          "base_uri": "https://localhost:8080/",
          "height": 296
        },
        "id": "nx37ukluI_-h",
        "outputId": "bd0e85cb-e249-4307-b4ec-3770390086df"
      },
      "execution_count": 53,
      "outputs": [
        {
          "output_type": "execute_result",
          "data": {
            "text/plain": [
              "Text(0, 0.5, 'Fraction of total variance explained')"
            ]
          },
          "metadata": {},
          "execution_count": 53
        },
        {
          "output_type": "display_data",
          "data": {
            "text/plain": [
              "<Figure size 432x288 with 1 Axes>"
            ],
            "image/png": "[encoded data removed]"
          },
          "metadata": {
            "needs_background": "light"
          }
        }
      ]
    },
    {
      "cell_type": "code",
      "source": [
        "n_components = 3"
      ],
      "metadata": {
        "id": "1TfZwOG4JIf3"
      },
      "execution_count": 54,
      "outputs": []
    },
    {
      "cell_type": "code",
      "source": [
        "pca = PCA(n_components=n_components).fit(trainSet)"
      ],
      "metadata": {
        "id": "oV9w99GfJPqP"
      },
      "execution_count": 55,
      "outputs": []
    },
    {
      "cell_type": "code",
      "source": [
        "X_train_pca = pca.transform(trainSet)\n",
        "X_test_pca = pca.transform(testSet)"
      ],
      "metadata": {
        "id": "deaajG_sJRMO"
      },
      "execution_count": 56,
      "outputs": []
    },
    {
      "cell_type": "code",
      "source": [
        "fig, ax = matplotlib.pyplot.subplots(1)\n",
        "\n",
        "for i in range(2):\n",
        "    ax.scatter(X_train_pca[trainRes==i][:,0], X_train_pca[trainRes==i][:,1], label=[0, 1][i], alpha=0.5)\n",
        "    \n",
        "ax.set_xlabel('PC 1')\n",
        "ax.set_xlabel('PC 2')\n",
        "ax.legend()"
      ],
      "metadata": {
        "colab": {
          "base_uri": "https://localhost:8080/",
          "height": 296
        },
        "id": "zXN-mOxcJiV0",
        "outputId": "e566a1e2-e2f7-4f63-ca7b-7921ca827955"
      },
      "execution_count": 57,
      "outputs": [
        {
          "output_type": "execute_result",
          "data": {
            "text/plain": [
              "<matplotlib.legend.Legend at 0x7f8888459670>"
            ]
          },
          "metadata": {},
          "execution_count": 57
        },
        {
          "output_type": "display_data",
          "data": {
            "text/plain": [
              "<Figure size 432x288 with 1 Axes>"
            ],
            "image/png": "[encoded data removed]"
          },
          "metadata": {
            "needs_background": "light"
          }
        }
      ]
    },
    {
      "cell_type": "code",
      "source": [
        "X_train_pca"
      ],
      "metadata": {
        "colab": {
          "base_uri": "https://localhost:8080/"
        },
        "id": "R5oMeoEjK030",
        "outputId": "ffdb3691-23e5-4205-b2f4-8fe66e2a5721"
      },
      "execution_count": 58,
      "outputs": [
        {
          "output_type": "execute_result",
          "data": {
            "text/plain": [
              "array([[ 0.37899755,  1.14115593, -0.45531669],\n",
              "       [-0.40127535, -0.07632574, -0.66009107],\n",
              "       [-0.94221931, -1.13074674,  0.10955315],\n",
              "       ...,\n",
              "       [-0.94249631, -1.13366689,  0.10919017],\n",
              "       [-0.94249631, -1.13366689,  0.10919017],\n",
              "       [-0.22398721,  1.68823543, -0.12725985]])"
            ]
          },
          "metadata": {},
          "execution_count": 58
        }
      ]
    },
    {
      "cell_type": "code",
      "source": [
        "len(X_train_pca)"
      ],
      "metadata": {
        "colab": {
          "base_uri": "https://localhost:8080/"
        },
        "id": "715Ux5k7K8jG",
        "outputId": "2ccb8411-142d-438a-8b79-86e8cd880875"
      },
      "execution_count": 59,
      "outputs": [
        {
          "output_type": "execute_result",
          "data": {
            "text/plain": [
              "777"
            ]
          },
          "metadata": {},
          "execution_count": 59
        }
      ]
    },
    {
      "cell_type": "code",
      "source": [
        "trainRes = trainRes.astype('int')"
      ],
      "metadata": {
        "id": "nDT9R1IuK5bU"
      },
      "execution_count": 60,
      "outputs": []
    },
    {
      "cell_type": "code",
      "source": [
        "from sklearn.svm import SVC\n",
        "svc = SVC(C=10000, kernel='rbf')\n",
        "svc.fit(X_train_pca, trainRes)"
      ],
      "metadata": {
        "colab": {
          "base_uri": "https://localhost:8080/"
        },
        "id": "tylqUdN9KC4x",
        "outputId": "cc5b1e5f-7c36-43ac-a7e6-8efbff24f4b8"
      },
      "execution_count": 61,
      "outputs": [
        {
          "output_type": "execute_result",
          "data": {
            "text/plain": [
              "SVC(C=10000)"
            ]
          },
          "metadata": {},
          "execution_count": 61
        }
      ]
    },
    {
      "cell_type": "code",
      "source": [
        "y_pred = svc.predict(X_test_pca)"
      ],
      "metadata": {
        "id": "OpHzTuH0Lw5B"
      },
      "execution_count": 62,
      "outputs": []
    },
    {
      "cell_type": "code",
      "source": [
        "testRes = testRes.astype('int')"
      ],
      "metadata": {
        "id": "RsW-5j4hL7tg"
      },
      "execution_count": 63,
      "outputs": []
    },
    {
      "cell_type": "code",
      "source": [
        "from sklearn.metrics import classification_report\n",
        "\n",
        "print(classification_report(testRes, y_pred))"
      ],
      "metadata": {
        "colab": {
          "base_uri": "https://localhost:8080/"
        },
        "id": "wwldXhFELzPJ",
        "outputId": "6b21eb73-eae6-4758-e4b9-7da5d8836235"
      },
      "execution_count": 64,
      "outputs": [
        {
          "output_type": "stream",
          "name": "stdout",
          "text": [
            "              precision    recall  f1-score   support\n",
            "\n",
            "           0       0.88      0.86      0.87       105\n",
            "           1       0.84      0.87      0.85        90\n",
            "\n",
            "    accuracy                           0.86       195\n",
            "   macro avg       0.86      0.86      0.86       195\n",
            "weighted avg       0.86      0.86      0.86       195\n",
            "\n"
          ]
        }
      ]
    },
    {
      "cell_type": "code",
      "source": [
        "print(\"SVM\")\n",
        "fscore=calculatefscore(testRes,y_pred)"
      ],
      "metadata": {
        "colab": {
          "base_uri": "https://localhost:8080/"
        },
        "id": "lLkqFCp2Mg7y",
        "outputId": "8cc4b77f-95b8-4eb0-9d01-286f8994455c"
      },
      "execution_count": 65,
      "outputs": [
        {
          "output_type": "stream",
          "name": "stdout",
          "text": [
            "SVM\n",
            "TP: 78\n",
            "FP: 15\n",
            "FN: 12\n"
          ]
        }
      ]
    },
    {
      "cell_type": "code",
      "source": [
        "lgbmClassifier=lightgbm.LGBMClassifier()\n",
        "lgbmClassifier.fit(X_train_pca, trainRes)\n",
        "predLGBM = lgbmClassifier.predict(X_test_pca)"
      ],
      "metadata": {
        "id": "AlBLRL2sMRtl"
      },
      "execution_count": 66,
      "outputs": []
    },
    {
      "cell_type": "code",
      "source": [
        "print(classification_report(testRes, predLGBM))"
      ],
      "metadata": {
        "colab": {
          "base_uri": "https://localhost:8080/"
        },
        "id": "4V5c8jLpMSyT",
        "outputId": "49d84618-9948-4544-fae4-6ca798b0caa3"
      },
      "execution_count": 67,
      "outputs": [
        {
          "output_type": "stream",
          "name": "stdout",
          "text": [
            "              precision    recall  f1-score   support\n",
            "\n",
            "           0       0.88      0.93      0.90       105\n",
            "           1       0.92      0.84      0.88        90\n",
            "\n",
            "    accuracy                           0.89       195\n",
            "   macro avg       0.90      0.89      0.89       195\n",
            "weighted avg       0.89      0.89      0.89       195\n",
            "\n"
          ]
        }
      ]
    },
    {
      "cell_type": "code",
      "source": [
        "print(\"LGBM\")\n",
        "fscore=calculatefscore(testRes,predLGBM)"
      ],
      "metadata": {
        "colab": {
          "base_uri": "https://localhost:8080/"
        },
        "id": "Ej9M4CwzN86E",
        "outputId": "bebbf54a-5ac2-4126-e798-2c7b1b76992a"
      },
      "execution_count": 68,
      "outputs": [
        {
          "output_type": "stream",
          "name": "stdout",
          "text": [
            "LGBM\n",
            "TP: 76\n",
            "FP: 7\n",
            "FN: 14\n"
          ]
        }
      ]
    },
    {
      "cell_type": "code",
      "source": [
        "decisionTreeClassifier=sklearn.tree.DecisionTreeClassifier()\n",
        "decisionTreeClassifier.fit(X_train_pca, trainRes)\n",
        "predDTC = decisionTreeClassifier.predict(X_test_pca)\n",
        "print(classification_report(testRes, predDTC))"
      ],
      "metadata": {
        "colab": {
          "base_uri": "https://localhost:8080/"
        },
        "id": "2KGCBpyWOIKw",
        "outputId": "0269813b-40b2-40fa-9248-1c3e6596d510"
      },
      "execution_count": 69,
      "outputs": [
        {
          "output_type": "stream",
          "name": "stdout",
          "text": [
            "              precision    recall  f1-score   support\n",
            "\n",
            "           0       0.85      0.94      0.90       105\n",
            "           1       0.92      0.81      0.86        90\n",
            "\n",
            "    accuracy                           0.88       195\n",
            "   macro avg       0.89      0.88      0.88       195\n",
            "weighted avg       0.89      0.88      0.88       195\n",
            "\n"
          ]
        }
      ]
    },
    {
      "cell_type": "code",
      "source": [
        "print(\"Decision Tree\")\n",
        "fscore=calculatefscore(testRes,predDTC)"
      ],
      "metadata": {
        "colab": {
          "base_uri": "https://localhost:8080/"
        },
        "id": "8VnXTk1APVTl",
        "outputId": "5efbb69c-31e1-419b-898c-394385119e7c"
      },
      "execution_count": 70,
      "outputs": [
        {
          "output_type": "stream",
          "name": "stdout",
          "text": [
            "Decision Tree\n",
            "TP: 73\n",
            "FP: 6\n",
            "FN: 17\n"
          ]
        }
      ]
    },
    {
      "cell_type": "code",
      "source": [
        "xgBoostClassfier = xgboost.XGBClassifier()\n",
        "xgBoostClassfier.fit(X_train_pca, trainRes)\n",
        "predictionsXGBoost = xgBoostClassfier.predict(X_test_pca)\n",
        "print(classification_report(testRes, predictionsXGBoost))"
      ],
      "metadata": {
        "colab": {
          "base_uri": "https://localhost:8080/"
        },
        "id": "x7w4jJL1P8is",
        "outputId": "3b0d7bc3-f91e-40e4-aa60-7aa4617fb944"
      },
      "execution_count": 82,
      "outputs": [
        {
          "output_type": "stream",
          "name": "stdout",
          "text": [
            "              precision    recall  f1-score   support\n",
            "\n",
            "           0       0.86      0.91      0.88       105\n",
            "           1       0.89      0.82      0.86        90\n",
            "\n",
            "    accuracy                           0.87       195\n",
            "   macro avg       0.87      0.87      0.87       195\n",
            "weighted avg       0.87      0.87      0.87       195\n",
            "\n"
          ]
        }
      ]
    },
    {
      "cell_type": "code",
      "source": [
        "print(\"XGBoost Classifier\")\n",
        "fscore=calculatefscore(testRes,predictionsXGBoost)"
      ],
      "metadata": {
        "colab": {
          "base_uri": "https://localhost:8080/"
        },
        "id": "3iBZWcrsThZv",
        "outputId": "e9c2ca9e-6ab7-43b5-fedd-0b1838192009"
      },
      "execution_count": 87,
      "outputs": [
        {
          "output_type": "stream",
          "name": "stdout",
          "text": [
            "XGBoost Classifier\n",
            "TP: 74\n",
            "FP: 9\n",
            "FN: 16\n"
          ]
        }
      ]
    },
    {
      "cell_type": "code",
      "source": [
        "randomForestClassifier = sklearn.ensemble.RandomForestClassifier()\n",
        "randomForestClassifier.fit(X_train_pca, trainRes)\n",
        "predictionsRandomForest = randomForestClassifier.predict(X_test_pca)\n",
        "print(classification_report(testRes, predictionsRandomForest))"
      ],
      "metadata": {
        "colab": {
          "base_uri": "https://localhost:8080/"
        },
        "id": "ymvwAobvSxGf",
        "outputId": "4bf6eb74-7d82-45ef-99cb-bc0af43c0620"
      },
      "execution_count": 85,
      "outputs": [
        {
          "output_type": "stream",
          "name": "stdout",
          "text": [
            "              precision    recall  f1-score   support\n",
            "\n",
            "           0       0.88      0.90      0.89       105\n",
            "           1       0.89      0.86      0.87        90\n",
            "\n",
            "    accuracy                           0.88       195\n",
            "   macro avg       0.88      0.88      0.88       195\n",
            "weighted avg       0.88      0.88      0.88       195\n",
            "\n"
          ]
        }
      ]
    },
    {
      "cell_type": "code",
      "source": [
        "print(\"Random Forest\")\n",
        "fscore=calculatefscore(testRes,predictionsRandomForest)"
      ],
      "metadata": {
        "colab": {
          "base_uri": "https://localhost:8080/"
        },
        "id": "1tvTrhX8TmNz",
        "outputId": "5ab92b54-36ee-4827-a898-3ddf99b8a20e"
      },
      "execution_count": 88,
      "outputs": [
        {
          "output_type": "stream",
          "name": "stdout",
          "text": [
            "Random Forest\n",
            "TP: 77\n",
            "FP: 10\n",
            "FN: 13\n"
          ]
        }
      ]
    },
    {
      "cell_type": "code",
      "source": [
        "from sklearn.decomposition import KernelPCA\n",
        "\n",
        "n_components = 10\n",
        "\n",
        "kpca = KernelPCA(n_components=n_components, kernel='rbf', fit_inverse_transform=True).fit(trainSet)"
      ],
      "metadata": {
        "id": "M1aCRj0XUMmg"
      },
      "execution_count": 89,
      "outputs": []
    },
    {
      "cell_type": "code",
      "source": [
        "X_train_kpca = kpca.transform(trainSet)\n",
        "X_test_kpca = kpca.transform(testSet)"
      ],
      "metadata": {
        "id": "csBdOwMiUoxQ"
      },
      "execution_count": 91,
      "outputs": []
    },
    {
      "cell_type": "code",
      "source": [
        "fig, ax = matplotlib.pyplot.subplots(1)\n",
        "\n",
        "for i in range(2):\n",
        "    ax.scatter(X_train_kpca[trainRes==i][:,0], X_train_kpca[trainRes==i][:,1], label=[0, 1][i], alpha=0.5)\n",
        "    \n",
        "ax.set_xlabel('PC 1')\n",
        "ax.set_xlabel('PC 2')\n",
        "ax.legend()"
      ],
      "metadata": {
        "colab": {
          "base_uri": "https://localhost:8080/",
          "height": 296
        },
        "id": "Xga5TpvuUwbB",
        "outputId": "6cc00665-178c-4895-b68f-00aa96f04f0f"
      },
      "execution_count": 93,
      "outputs": [
        {
          "output_type": "execute_result",
          "data": {
            "text/plain": [
              "<matplotlib.legend.Legend at 0x7f887ebc78e0>"
            ]
          },
          "metadata": {},
          "execution_count": 93
        },
        {
          "output_type": "display_data",
          "data": {
            "text/plain": [
              "<Figure size 432x288 with 1 Axes>"
            ],
            "image/png": "[encoded data removed]"
          },
          "metadata": {
            "needs_background": "light"
          }
        }
      ]
    },
    {
      "cell_type": "code",
      "source": [
        "svc = SVC(C=10000, kernel='rbf')\n",
        "svc.fit(X_train_kpca, trainRes)\n",
        "y_pred_svm = svc.predict(X_test_kpca)\n",
        "print(classification_report(testRes, y_pred_svm))"
      ],
      "metadata": {
        "colab": {
          "base_uri": "https://localhost:8080/"
        },
        "id": "oyCeoNugVSGg",
        "outputId": "40ff10e1-9707-4325-8bdf-192c37a06716"
      },
      "execution_count": 132,
      "outputs": [
        {
          "output_type": "stream",
          "name": "stdout",
          "text": [
            "              precision    recall  f1-score   support\n",
            "\n",
            "           0       0.95      0.95      0.95       105\n",
            "           1       0.94      0.94      0.94        90\n",
            "\n",
            "    accuracy                           0.95       195\n",
            "   macro avg       0.95      0.95      0.95       195\n",
            "weighted avg       0.95      0.95      0.95       195\n",
            "\n"
          ]
        }
      ]
    },
    {
      "cell_type": "code",
      "source": [
        "print(\"SVM\")\n",
        "fscore=calculatefscore(testRes,y_pred_svm)"
      ],
      "metadata": {
        "colab": {
          "base_uri": "https://localhost:8080/"
        },
        "id": "D179eKhqVv06",
        "outputId": "bcbc2188-5821-40be-9bf8-1aff43530a7c"
      },
      "execution_count": 133,
      "outputs": [
        {
          "output_type": "stream",
          "name": "stdout",
          "text": [
            "SVM\n",
            "TP: 85\n",
            "FP: 5\n",
            "FN: 5\n"
          ]
        }
      ]
    },
    {
      "cell_type": "code",
      "source": [
        "lgbmClassifier=lightgbm.LGBMClassifier()\n",
        "lgbmClassifier.fit(X_train_kpca, trainRes)\n",
        "predLGBMKpca = lgbmClassifier.predict(X_test_kpca)"
      ],
      "metadata": {
        "id": "YWVvowX8V-NC"
      },
      "execution_count": 134,
      "outputs": []
    },
    {
      "cell_type": "code",
      "source": [
        "print(classification_report(testRes, predLGBMKpca))"
      ],
      "metadata": {
        "colab": {
          "base_uri": "https://localhost:8080/"
        },
        "id": "GU132h7VWMNd",
        "outputId": "92db3726-7a71-467b-875f-c674c1427448"
      },
      "execution_count": 135,
      "outputs": [
        {
          "output_type": "stream",
          "name": "stdout",
          "text": [
            "              precision    recall  f1-score   support\n",
            "\n",
            "           0       0.96      0.97      0.97       105\n",
            "           1       0.97      0.96      0.96        90\n",
            "\n",
            "    accuracy                           0.96       195\n",
            "   macro avg       0.96      0.96      0.96       195\n",
            "weighted avg       0.96      0.96      0.96       195\n",
            "\n"
          ]
        }
      ]
    },
    {
      "cell_type": "code",
      "source": [
        "print('LGBM')\n",
        "fscore=calculatefscore(testRes,predLGBMKpca)"
      ],
      "metadata": {
        "colab": {
          "base_uri": "https://localhost:8080/"
        },
        "id": "3Ls1ThQ_WXQ3",
        "outputId": "62f11db2-0749-4fd9-8a30-3813bb330994"
      },
      "execution_count": 136,
      "outputs": [
        {
          "output_type": "stream",
          "name": "stdout",
          "text": [
            "LGBM\n",
            "TP: 86\n",
            "FP: 3\n",
            "FN: 4\n"
          ]
        }
      ]
    },
    {
      "cell_type": "code",
      "source": [
        "decisionTreeClassifier=sklearn.tree.DecisionTreeClassifier()\n",
        "decisionTreeClassifier.fit(X_train_kpca, trainRes)\n",
        "predDTCKpca = decisionTreeClassifier.predict(X_test_kpca)\n",
        "print(classification_report(testRes, predDTCKpca))"
      ],
      "metadata": {
        "colab": {
          "base_uri": "https://localhost:8080/"
        },
        "id": "EeagmVgzWoS-",
        "outputId": "537a4010-946f-49a2-8201-3240e338b3ca"
      },
      "execution_count": 106,
      "outputs": [
        {
          "output_type": "stream",
          "name": "stdout",
          "text": [
            "              precision    recall  f1-score   support\n",
            "\n",
            "           0       0.94      0.93      0.94       105\n",
            "           1       0.92      0.93      0.93        90\n",
            "\n",
            "    accuracy                           0.93       195\n",
            "   macro avg       0.93      0.93      0.93       195\n",
            "weighted avg       0.93      0.93      0.93       195\n",
            "\n"
          ]
        }
      ]
    },
    {
      "cell_type": "code",
      "source": [
        "print('Decision Tree Classifier')\n",
        "fscore=calculatefscore(testRes,predDTCKpca)"
      ],
      "metadata": {
        "colab": {
          "base_uri": "https://localhost:8080/"
        },
        "id": "0UmZ8_HTW9wK",
        "outputId": "3c62e771-81bc-4e6e-e8d3-d6f7c3c84ae8"
      },
      "execution_count": 137,
      "outputs": [
        {
          "output_type": "stream",
          "name": "stdout",
          "text": [
            "Decision Tree Classifier\n",
            "TP: 84\n",
            "FP: 7\n",
            "FN: 6\n"
          ]
        }
      ]
    },
    {
      "cell_type": "code",
      "source": [
        "xgBoostClassfier = xgboost.XGBClassifier()\n",
        "xgBoostClassfier.fit(X_train_kpca, trainRes)\n",
        "predictionsXGBoostKpca = xgBoostClassfier.predict(X_test_kpca)\n",
        "print(classification_report(testRes, predictionsXGBoostKpca))"
      ],
      "metadata": {
        "colab": {
          "base_uri": "https://localhost:8080/"
        },
        "id": "R3ptfUP_XDRn",
        "outputId": "7d2e6a5b-52ed-4d94-85b5-eeb1eeb3668b"
      },
      "execution_count": 107,
      "outputs": [
        {
          "output_type": "stream",
          "name": "stdout",
          "text": [
            "              precision    recall  f1-score   support\n",
            "\n",
            "           0       0.96      0.95      0.96       105\n",
            "           1       0.95      0.96      0.95        90\n",
            "\n",
            "    accuracy                           0.95       195\n",
            "   macro avg       0.95      0.95      0.95       195\n",
            "weighted avg       0.95      0.95      0.95       195\n",
            "\n"
          ]
        }
      ]
    },
    {
      "cell_type": "code",
      "source": [
        "print('XGBoost')\n",
        "fscore=calculatefscore(testRes,predictionsXGBoostKpca)"
      ],
      "metadata": {
        "colab": {
          "base_uri": "https://localhost:8080/"
        },
        "id": "fVmVpoIVXDKs",
        "outputId": "81e6850c-ba8f-42eb-91b0-8cf2fa497941"
      },
      "execution_count": 108,
      "outputs": [
        {
          "output_type": "stream",
          "name": "stdout",
          "text": [
            "XGBoost\n",
            "TP: 86\n",
            "FP: 5\n",
            "FN: 4\n"
          ]
        }
      ]
    },
    {
      "cell_type": "code",
      "source": [
        "randomForestClassifier = sklearn.ensemble.RandomForestClassifier()\n",
        "randomForestClassifier.fit(X_train_kpca, trainRes)\n",
        "predictionsRandomForestKpca = randomForestClassifier.predict(X_test_kpca)\n",
        "print(classification_report(testRes, predictionsRandomForestKpca))"
      ],
      "metadata": {
        "colab": {
          "base_uri": "https://localhost:8080/"
        },
        "id": "mvgk0bY2YDfV",
        "outputId": "728452c2-7255-42b5-aa7b-368d962d244f"
      },
      "execution_count": 109,
      "outputs": [
        {
          "output_type": "stream",
          "name": "stdout",
          "text": [
            "              precision    recall  f1-score   support\n",
            "\n",
            "           0       0.97      0.96      0.97       105\n",
            "           1       0.96      0.97      0.96        90\n",
            "\n",
            "    accuracy                           0.96       195\n",
            "   macro avg       0.96      0.96      0.96       195\n",
            "weighted avg       0.96      0.96      0.96       195\n",
            "\n"
          ]
        }
      ]
    },
    {
      "cell_type": "code",
      "source": [
        "print('Random Forest')\n",
        "fscore=calculatefscore(testRes,predictionsRandomForestKpca)"
      ],
      "metadata": {
        "colab": {
          "base_uri": "https://localhost:8080/"
        },
        "id": "N1kXRDcWYEO-",
        "outputId": "8283a7cd-f084-4669-85e2-e705de355818"
      },
      "execution_count": 110,
      "outputs": [
        {
          "output_type": "stream",
          "name": "stdout",
          "text": [
            "Random Forest\n",
            "TP: 87\n",
            "FP: 4\n",
            "FN: 3\n"
          ]
        }
      ]
    },
    {
      "cell_type": "code",
      "source": [
        "from sklearn.discriminant_analysis import LinearDiscriminantAnalysis\n",
        "lda = LinearDiscriminantAnalysis()\n",
        "X_train_lda = lda.fit_transform(trainSet, trainRes)"
      ],
      "metadata": {
        "id": "edkeKhF3ZOBi"
      },
      "execution_count": 128,
      "outputs": []
    },
    {
      "cell_type": "code",
      "source": [
        "X_test_lda = lda.transform(testSet)"
      ],
      "metadata": {
        "id": "1uL28fZgcH04"
      },
      "execution_count": 130,
      "outputs": []
    },
    {
      "cell_type": "code",
      "source": [
        "svc = SVC(C=10000, kernel='rbf')\n",
        "svc.fit(X_train_lda, trainRes)\n",
        "y_pred_svmlda = svc.predict(X_test_lda)\n",
        "print(classification_report(testRes, y_pred_svmlda))"
      ],
      "metadata": {
        "colab": {
          "base_uri": "https://localhost:8080/"
        },
        "id": "ibpCQyxldTHM",
        "outputId": "ec059a72-c0f2-4b1e-d854-c12ee2bc7a41"
      },
      "execution_count": 131,
      "outputs": [
        {
          "output_type": "stream",
          "name": "stdout",
          "text": [
            "              precision    recall  f1-score   support\n",
            "\n",
            "           0       0.99      0.80      0.88       105\n",
            "           1       0.81      0.99      0.89        90\n",
            "\n",
            "    accuracy                           0.89       195\n",
            "   macro avg       0.90      0.89      0.89       195\n",
            "weighted avg       0.91      0.89      0.89       195\n",
            "\n"
          ]
        }
      ]
    },
    {
      "cell_type": "code",
      "source": [
        "print(\"SVM\")\n",
        "fscore=calculatefscore(testRes,y_pred_svmlda)"
      ],
      "metadata": {
        "colab": {
          "base_uri": "https://localhost:8080/"
        },
        "id": "NWKC18iZdwxG",
        "outputId": "15a3a170-4f00-46d1-c6c2-427670682080"
      },
      "execution_count": 138,
      "outputs": [
        {
          "output_type": "stream",
          "name": "stdout",
          "text": [
            "SVM\n",
            "TP: 89\n",
            "FP: 21\n",
            "FN: 1\n"
          ]
        }
      ]
    },
    {
      "cell_type": "code",
      "source": [
        "lgbmClassifier=lightgbm.LGBMClassifier()\n",
        "lgbmClassifier.fit(X_train_lda, trainRes)\n",
        "predLGBMLda = lgbmClassifier.predict(X_test_lda)\n",
        "print(classification_report(testRes, predLGBMLda))"
      ],
      "metadata": {
        "colab": {
          "base_uri": "https://localhost:8080/"
        },
        "id": "YWAve9ehey92",
        "outputId": "52811f40-4749-4c98-ad71-7d919ec161c3"
      },
      "execution_count": 139,
      "outputs": [
        {
          "output_type": "stream",
          "name": "stdout",
          "text": [
            "              precision    recall  f1-score   support\n",
            "\n",
            "           0       0.95      0.88      0.91       105\n",
            "           1       0.87      0.94      0.90        90\n",
            "\n",
            "    accuracy                           0.91       195\n",
            "   macro avg       0.91      0.91      0.91       195\n",
            "weighted avg       0.91      0.91      0.91       195\n",
            "\n"
          ]
        }
      ]
    },
    {
      "cell_type": "code",
      "source": [
        "print(\"LGBM\")\n",
        "fscore=calculatefscore(testRes,predLGBMLda)"
      ],
      "metadata": {
        "colab": {
          "base_uri": "https://localhost:8080/"
        },
        "id": "HBgbww0AfKX8",
        "outputId": "f1a011fc-30b7-4cb8-e8fb-fa9d417c4048"
      },
      "execution_count": 140,
      "outputs": [
        {
          "output_type": "stream",
          "name": "stdout",
          "text": [
            "LGBM\n",
            "TP: 85\n",
            "FP: 13\n",
            "FN: 5\n"
          ]
        }
      ]
    },
    {
      "cell_type": "code",
      "source": [
        "decisionTreeClassifier=sklearn.tree.DecisionTreeClassifier()\n",
        "decisionTreeClassifier.fit(X_train_lda, trainRes)\n",
        "predDTCLda = decisionTreeClassifier.predict(X_test_lda)\n",
        "print(classification_report(testRes, predDTCLda))"
      ],
      "metadata": {
        "colab": {
          "base_uri": "https://localhost:8080/"
        },
        "id": "1EY2dVALfWAc",
        "outputId": "eaccd9ef-5498-4ac2-cbdf-c81ad1580709"
      },
      "execution_count": 141,
      "outputs": [
        {
          "output_type": "stream",
          "name": "stdout",
          "text": [
            "              precision    recall  f1-score   support\n",
            "\n",
            "           0       0.95      0.88      0.91       105\n",
            "           1       0.87      0.94      0.90        90\n",
            "\n",
            "    accuracy                           0.91       195\n",
            "   macro avg       0.91      0.91      0.91       195\n",
            "weighted avg       0.91      0.91      0.91       195\n",
            "\n"
          ]
        }
      ]
    },
    {
      "cell_type": "code",
      "source": [
        "print(\"Decision Tree Classifier\")\n",
        "fscore=calculatefscore(testRes,predDTCLda)"
      ],
      "metadata": {
        "colab": {
          "base_uri": "https://localhost:8080/"
        },
        "id": "jW5xzuuyfuAG",
        "outputId": "e3844654-2150-45fc-c37a-b6dd83a59d57"
      },
      "execution_count": 142,
      "outputs": [
        {
          "output_type": "stream",
          "name": "stdout",
          "text": [
            "Decision Tree Classifier\n",
            "TP: 85\n",
            "FP: 13\n",
            "FN: 5\n"
          ]
        }
      ]
    },
    {
      "cell_type": "code",
      "source": [
        "xgBoostClassfier = xgboost.XGBClassifier()\n",
        "xgBoostClassfier.fit(X_train_lda, trainRes)\n",
        "predictionsXGBoostLda = xgBoostClassfier.predict(X_test_lda)\n",
        "print(classification_report(testRes, predictionsXGBoostLda))"
      ],
      "metadata": {
        "colab": {
          "base_uri": "https://localhost:8080/"
        },
        "id": "Ywz8uRhOf1oG",
        "outputId": "fa0b9d01-2e6f-4258-9d71-c075fb3ba3d3"
      },
      "execution_count": 143,
      "outputs": [
        {
          "output_type": "stream",
          "name": "stdout",
          "text": [
            "              precision    recall  f1-score   support\n",
            "\n",
            "           0       0.90      0.89      0.89       105\n",
            "           1       0.87      0.89      0.88        90\n",
            "\n",
            "    accuracy                           0.89       195\n",
            "   macro avg       0.89      0.89      0.89       195\n",
            "weighted avg       0.89      0.89      0.89       195\n",
            "\n"
          ]
        }
      ]
    },
    {
      "cell_type": "code",
      "source": [
        "print(\"XGBoost\")\n",
        "fscore=calculatefscore(testRes,predictionsXGBoostLda)"
      ],
      "metadata": {
        "colab": {
          "base_uri": "https://localhost:8080/"
        },
        "id": "txO-TPemgFLk",
        "outputId": "c1c39b54-5ba5-4b98-c97c-518bcbdf4824"
      },
      "execution_count": 144,
      "outputs": [
        {
          "output_type": "stream",
          "name": "stdout",
          "text": [
            "XGBoost\n",
            "TP: 80\n",
            "FP: 12\n",
            "FN: 10\n"
          ]
        }
      ]
    },
    {
      "cell_type": "code",
      "source": [
        "randomForestClassifier = sklearn.ensemble.RandomForestClassifier()\n",
        "randomForestClassifier.fit(X_train_lda, trainRes)\n",
        "predictionsRandomForestLda = randomForestClassifier.predict(X_test_lda)\n",
        "print(classification_report(testRes, predictionsRandomForestLda))"
      ],
      "metadata": {
        "colab": {
          "base_uri": "https://localhost:8080/"
        },
        "id": "o0-_948-gOzF",
        "outputId": "0585b250-0628-4fb7-c953-87fcce3425e4"
      },
      "execution_count": 145,
      "outputs": [
        {
          "output_type": "stream",
          "name": "stdout",
          "text": [
            "              precision    recall  f1-score   support\n",
            "\n",
            "           0       0.95      0.88      0.91       105\n",
            "           1       0.87      0.94      0.90        90\n",
            "\n",
            "    accuracy                           0.91       195\n",
            "   macro avg       0.91      0.91      0.91       195\n",
            "weighted avg       0.91      0.91      0.91       195\n",
            "\n"
          ]
        }
      ]
    },
    {
      "cell_type": "code",
      "source": [
        "print('Random Forest')\n",
        "fscore=calculatefscore(testRes,predictionsRandomForestLda)"
      ],
      "metadata": {
        "colab": {
          "base_uri": "https://localhost:8080/"
        },
        "id": "F23GStHlgabn",
        "outputId": "2f7abb5f-14e7-471f-8bc6-9f33048ec4f1"
      },
      "execution_count": 146,
      "outputs": [
        {
          "output_type": "stream",
          "name": "stdout",
          "text": [
            "Random Forest\n",
            "TP: 85\n",
            "FP: 13\n",
            "FN: 5\n"
          ]
        }
      ]
    }
  ]
}